{
 "cells": [
  {
   "cell_type": "code",
   "execution_count": 1,
   "metadata": {},
   "outputs": [],
   "source": [
    "from tkinter import *"
   ]
  },
  {
   "cell_type": "code",
   "execution_count": 1,
   "metadata": {},
   "outputs": [],
   "source": [
    "root = Tk()\n",
    "thelabel = Label(root, text=\"This is too easy\")\n",
    "thelabel.pack()\n",
    "root.mainloop()"
   ]
  },
  {
   "cell_type": "code",
   "execution_count": 15,
   "metadata": {},
   "outputs": [],
   "source": [
    "root = Tk()\n",
    "\n",
    "topframe = Frame(root)\n",
    "topframe.pack()\n",
    "bottomframe = Frame(root)\n",
    "bottomframe.pack(side=BOTTOM)\n",
    "\n",
    "button1 = Button(topframe, text=\"Button 1\", fg=\"red\")\n",
    "button2 = Button(topframe, text=\"Button 2\", fg=\"blue\")\n",
    "button3 = Button(topframe, text=\"Button 3\", fg=\"green\")\n",
    "button4 = Button(bottomframe, text=\"Button 4\", fg=\"purple\")\n",
    "\n",
    "button1.pack(side=LEFT)\n",
    "button2.pack(side=LEFT)\n",
    "button3.pack(side=LEFT)\n",
    "button4.pack(side=BOTTOM)\n",
    "\n",
    "root.mainloop()"
   ]
  },
  {
   "cell_type": "code",
   "execution_count": 18,
   "metadata": {},
   "outputs": [],
   "source": [
    "# Size labels\n",
    "root = Tk()\n",
    "\n",
    "one = Label(root, text=\"One\",bg=\"red\",fg=\"white\")\n",
    "one.pack()\n",
    "two = Label(root, text=\"Two\",bg=\"green\",fg=\"black\")\n",
    "two.pack(fill=X)\n",
    "three = Label(root, text=\"Three\",bg=\"blue\",fg=\"white\")\n",
    "three.pack(side=LEFT, fill=Y)\n",
    "\n",
    "root.mainloop()"
   ]
  },
  {
   "cell_type": "code",
   "execution_count": 25,
   "metadata": {},
   "outputs": [],
   "source": [
    "# Login Screen\n",
    "root = Tk()\n",
    "\n",
    "label_1 = Label(root, text=\"Name\")\n",
    "label_2 = Label(root, text=\"Password\")\n",
    "entry_1 = Entry(root)\n",
    "entry_2 = Entry(root)\n",
    "\n",
    "label_1.grid(row=0, sticky=E) # sticky = [N,S,E,W]\n",
    "label_2.grid(row=1, sticky=E)\n",
    "\n",
    "entry_1.grid(row=0, column=1)\n",
    "entry_2.grid(row=1, column=1)\n",
    "\n",
    "c = Checkbutton(root, text=\"Keep me logged in\")\n",
    "c.grid(columnspan=2)\n",
    "\n",
    "root.mainloop()"
   ]
  },
  {
   "cell_type": "code",
   "execution_count": 32,
   "metadata": {},
   "outputs": [
    {
     "name": "stdout",
     "output_type": "stream",
     "text": [
      "Hello my name is David!\n",
      "Hello my name is David!\n"
     ]
    }
   ],
   "source": [
    "# Binding a function to a widget\n",
    "root = Tk()\n",
    "\n",
    "def printName(event):\n",
    "    print(\"Hello my name is David!\")\n",
    "\n",
    "button_1 = Button(root, text=\"Print my name\")\n",
    "button_1.bind(\"<Button-1>\", printName) # Left Click\n",
    "button_1.pack()\n",
    "\n",
    "root.mainloop()"
   ]
  },
  {
   "cell_type": "code",
   "execution_count": 36,
   "metadata": {},
   "outputs": [
    {
     "name": "stdout",
     "output_type": "stream",
     "text": [
      "Left\n",
      "Right\n",
      "Left\n",
      "Right\n",
      "Right\n",
      "Right\n"
     ]
    }
   ],
   "source": [
    "# Binding multiple functions to the same widget\n",
    "root = Tk()\n",
    "\n",
    "def leftClick(event):\n",
    "    print(\"Left\")\n",
    "    \n",
    "def rightClick(event):\n",
    "    print(\"Right\")\n",
    "\n",
    "frame = Frame(root, width=300, height=250)\n",
    "frame.bind(\"<Button-1>\", leftClick)\n",
    "frame.bind(\"<Button-3>\", rightClick)\n",
    "frame.pack()\n",
    "\n",
    "root.mainloop()"
   ]
  },
  {
   "cell_type": "code",
   "execution_count": 2,
   "metadata": {},
   "outputs": [
    {
     "name": "stdout",
     "output_type": "stream",
     "text": [
      "Wow, this actually worked!\n"
     ]
    }
   ],
   "source": [
    "# Using classes\n",
    "\n",
    "class DavidsButtons:\n",
    "    \n",
    "    def __init__(self, master):\n",
    "        frame = Frame(master)\n",
    "        frame.pack()\n",
    "        \n",
    "        self.printButton = Button(frame, text=\"Print Message\", command=self.printMessage)\n",
    "        self.printButton.pack(side=LEFT)\n",
    "        \n",
    "        self.quitButton = Button(frame, text=\"Quit\", command=master.destroy)\n",
    "        self.quitButton.pack(side=LEFT)\n",
    "        \n",
    "    def printMessage(self):\n",
    "        print(\"Wow, this actually worked!\")\n",
    "\n",
    "root = Tk()\n",
    "\n",
    "b = DavidsButtons(root)\n",
    "\n",
    "root.mainloop()"
   ]
  },
  {
   "cell_type": "code",
   "execution_count": 7,
   "metadata": {},
   "outputs": [],
   "source": [
    "# Dropdowns, toolbars and status bars\n",
    "def doNothing():\n",
    "    print(\"ok ok I won't...\")\n",
    "\n",
    "root = Tk()\n",
    "\n",
    "# ***** Main Menu *****\n",
    "\n",
    "menu = Menu(root)\n",
    "root.config(menu=menu)\n",
    "\n",
    "subMenu = Menu(menu)\n",
    "menu.add_cascade(label=\"File\", menu=subMenu)\n",
    "subMenu.add_command(label=\"New Project...\", command=doNothing)\n",
    "subMenu.add_command(label=\"New...\", command=doNothing)\n",
    "subMenu.add_separator()\n",
    "subMenu.add_command(label=\"Exit\", command=doNothing)\n",
    "\n",
    "editMenu = Menu(menu)\n",
    "menu.add_cascade(label=\"Edit\", menu=editMenu)\n",
    "editMenu.add_command(label=\"Redo\", command=doNothing)\n",
    "\n",
    "# ***** Toolbar *****\n",
    "\n",
    "toolbar = Frame(root, bg=\"blue\")\n",
    "\n",
    "insertButton = Button(toolbar, text=\"Insert Image\", command=doNothing)\n",
    "insertButton.pack(side=LEFT, padx=2, pady=2)\n",
    "printButton = Button(toolbar, text=\"Print\", command=doNothing)\n",
    "printButton.pack(side=LEFT, padx=2, pady=2)\n",
    "\n",
    "toolbar.pack(side=TOP, fill=X)\n",
    "\n",
    "# ***** Status Bar *****\n",
    "\n",
    "status = Label(root, text=\"Preparing to do nothing...\", bd=1, relief=SUNKEN, anchor=W)\n",
    "status.pack(side=BOTTOM, fill=X)\n",
    "\n",
    "root.mainloop()"
   ]
  }
 ],
 "metadata": {
  "kernelspec": {
   "display_name": "Python 3",
   "language": "python",
   "name": "python3"
  },
  "language_info": {
   "codemirror_mode": {
    "name": "ipython",
    "version": 3
   },
   "file_extension": ".py",
   "mimetype": "text/x-python",
   "name": "python",
   "nbconvert_exporter": "python",
   "pygments_lexer": "ipython3",
   "version": "3.7.3"
  }
 },
 "nbformat": 4,
 "nbformat_minor": 2
}
